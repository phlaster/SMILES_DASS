{
 "cells": [
  {
   "cell_type": "code",
   "execution_count": null,
   "id": "91606244-5a7e-4376-809d-e093182e1654",
   "metadata": {
    "tags": []
   },
   "outputs": [],
   "source": [
    "import argparse\n",
    "import requests\n",
    "import urllib.parse\n",
    "from urllib.parse import urlencode\n",
    "import os\n",
    "import zipfile"
   ]
  },
  {
   "cell_type": "code",
   "execution_count": null,
   "id": "c43980c0-f1db-494b-8b45-0feb74535c24",
   "metadata": {
    "tags": []
   },
   "outputs": [],
   "source": [
    "def down(link, path):\n",
    "    try:\n",
    "        with open(path, \"wb\") as file:\n",
    "            download_response = requests.get(link, stream=True)\n",
    "            download_response.raise_for_status()  # Raise an error for bad status codes\n",
    "            total_length = download_response.headers.get('content-length')\n",
    "\n",
    "            if total_length is None:  # No content length header\n",
    "                file.write(download_response.content)\n",
    "            else:\n",
    "                dl = 0\n",
    "                total_length = int(total_length)\n",
    "                for chunk in download_response.iter_content(chunk_size=1024):\n",
    "                    if chunk:\n",
    "                        dl += len(chunk)\n",
    "                        file.write(chunk)\n",
    "                        file.flush()\n",
    "                        done = int(50 * dl / total_length)\n",
    "                        os.sys.stdout.write(\"\\r[%s%s]\" % ('=' * done, ' ' * (50-done)) )\n",
    "                        os.sys.stdout.flush()\n",
    "                print()  # New line after progress bar\n",
    "    except requests.RequestException as e:\n",
    "        print(f\"Download failed: {e}\")\n",
    "        if os.path.exists(path):\n",
    "            os.remove(path)  # Remove partial download"
   ]
  },
  {
   "cell_type": "code",
   "execution_count": null,
   "id": "ffa916d8-2d5b-4458-95bc-9233a6991134",
   "metadata": {},
   "outputs": [],
   "source": [
    "def unzip_file(filepath):\n",
    "    \"\"\"\n",
    "    Extracts a zip archive into the same directory, preserving the inside subdirectory structure,\n",
    "    and removes the original zip file upon successful extraction.\n",
    "    \n",
    "    :param filepath: Path to the zip archive file.\n",
    "    \"\"\"\n",
    "    if not os.path.isfile(filepath) or not filepath.lower().endswith('.zip'):\n",
    "        raise ValueError(\"The provided filepath is not a valid zip file.\")\n",
    "    \n",
    "    extract_to = os.path.dirname(filepath)\n",
    "    \n",
    "    with zipfile.ZipFile(filepath, 'r') as zip_ref:\n",
    "        zip_ref.extractall(path=extract_to)\n",
    "    \n",
    "    os.remove(filepath)\n",
    "    print(f\"Successfully extracted {filepath} and removed the original file.\")"
   ]
  },
  {
   "cell_type": "code",
   "execution_count": null,
   "id": "26173a8b-ab93-46d5-9945-6a62fba10c19",
   "metadata": {
    "tags": []
   },
   "outputs": [],
   "source": [
    "dataset_url = \"https://disk.yandex.ru/d/mwyS4ZoZNixv5w\"\n",
    "url = f\"https://cloud-api.yandex.net/v1/disk/public/resources/download?public_key={dataset_url}\"\n",
    "response = requests.get(url)\n",
    "download_url = response.json()[\"href\"]\n",
    "print(download_url)"
   ]
  },
  {
   "cell_type": "code",
   "execution_count": null,
   "id": "4ee4a02a-017d-4c91-9909-8a44d18a18a2",
   "metadata": {
    "tags": []
   },
   "outputs": [],
   "source": [
    "# down(download_url, \"../dataset/dataset.zip\")"
   ]
  },
  {
   "cell_type": "code",
   "execution_count": null,
   "id": "1c4a79de-6e34-4277-a23f-d27e5bf2a5b8",
   "metadata": {},
   "outputs": [],
   "source": []
  }
 ],
 "metadata": {
  "kernelspec": {
   "display_name": "DataSphere Kernel",
   "language": "python",
   "name": "python3"
  },
  "language_info": {
   "codemirror_mode": {
    "name": "ipython",
    "version": 3
   },
   "file_extension": ".py",
   "mimetype": "text/x-python",
   "name": "python",
   "nbconvert_exporter": "python",
   "pygments_lexer": "ipython3",
   "version": "3.10.12"
  }
 },
 "nbformat": 4,
 "nbformat_minor": 5
}
